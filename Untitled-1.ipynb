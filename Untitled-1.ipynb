{
 "cells": [
  {
   "cell_type": "code",
   "execution_count": 1,
   "metadata": {},
   "outputs": [
    {
     "name": "stdout",
     "output_type": "stream",
     "text": [
      "/Users/notjavo/Desktop/TestProject\n",
      "/Users/notjavo/Desktop/Pokemon Data Pandas Practice\n"
     ]
    }
   ],
   "source": [
    "import os\n",
    "#the string below is checking the current working directory\n",
    "print(os.getcwd())\n",
    "#the string below is changing the working directory\n",
    "os.chdir('/Users/notjavo/Desktop/Pokemon Data Pandas Practice')\n",
    "print(os.getcwd())  # Verify the change\n",
    "\n",
    "\n",
    "import pandas as pd\n",
    "mydf = pd.read_csv('pokemon_data.csv')\n",
    "\n",
    "#Gathering Basic Information about data frame\n",
    "#Reading Headers\n",
    "print(mydf.columns)\n",
    "\n",
    "#Read each Column\n",
    "print(mydf['Name'])\n",
    "#Read Each Row\n",
    "print(mydf.iloc[1:4])\n"
   ]
  }
 ],
 "metadata": {
  "kernelspec": {
   "display_name": "envtwo",
   "language": "python",
   "name": "python3"
  },
  "language_info": {
   "codemirror_mode": {
    "name": "ipython",
    "version": 3
   },
   "file_extension": ".py",
   "mimetype": "text/x-python",
   "name": "python",
   "nbconvert_exporter": "python",
   "pygments_lexer": "ipython3",
   "version": "3.9.19"
  }
 },
 "nbformat": 4,
 "nbformat_minor": 2
}
